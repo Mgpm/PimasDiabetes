{
 "cells": [
  {
   "cell_type": "code",
   "execution_count": 1,
   "id": "afe480f4",
   "metadata": {},
   "source": [
    "from src.cleanData.preProcessing import preProcessing\n",
    "from src.cleanData.normalize import normalize\n",
    "from src.decompositionData.decomposition import decomposition\n",
    "from src.dataViz.vizualisation import vizualisation\n",
    "from src.models.splitData import splitData\n",
    "from src.models.crossValid import crossValid\n",
    "from src.models.grichSearch import grichSearch\n",
    "from src.models.Models import Models\n",
    "import matplotlib.pyplot as plt\n",
    "import warnings\n",
    "warnings.filterwarnings(\"ignore\")"
   ],
   "outputs": []
  },
  {
   "cell_type": "code",
   "execution_count": 2,
   "id": "11f46128",
   "metadata": {},
   "source": [
    "pr = preProcessing()\n",
    "n = normalize()\n",
    "d = decomposition()\n",
    "v = vizualisation()\n",
    "sp = splitData()"
   ],
   "outputs": []
  },
  {
   "cell_type": "code",
   "execution_count": 3,
   "id": "fb879675",
   "metadata": {},
   "source": [
    "pr.load()"
   ],
   "outputs": []
  },
  {
   "cell_type": "code",
   "execution_count": 4,
   "id": "340326a8",
   "metadata": {},
   "source": [
    "pr.shapeDF()"
   ],
   "outputs": []
  },
  {
   "cell_type": "code",
   "execution_count": 5,
   "id": "dcc517e5",
   "metadata": {},
   "source": [
    "X_train,X_test,y_train,y_test = sp.dataSplit(pr.getDataWithoutLabels(), pr.getLabels())"
   ],
   "outputs": []
  },
  {
   "cell_type": "code",
   "execution_count": null,
   "id": "9f2d542a",
   "metadata": {},
   "source": [],
   "outputs": []
  },
  {
   "cell_type": "code",
   "execution_count": 6,
   "id": "e69d5714",
   "metadata": {},
   "source": [
    "pr.headDF()"
   ],
   "outputs": []
  },
  {
   "cell_type": "code",
   "execution_count": null,
   "id": "7b188f74",
   "metadata": {},
   "source": [],
   "outputs": []
  },
  {
   "cell_type": "code",
   "execution_count": 7,
   "id": "5bd04f87",
   "metadata": {},
   "source": [
    "pr.infoDF()"
   ],
   "outputs": []
  },
  {
   "cell_type": "code",
   "execution_count": 8,
   "id": "04a1cc07",
   "metadata": {},
   "source": [
    "pr.describeDF()"
   ],
   "outputs": []
  },
  {
   "cell_type": "code",
   "execution_count": 9,
   "id": "8d3cf900",
   "metadata": {},
   "source": [
    "v.histData(pr.df)"
   ],
   "outputs": []
  },
  {
   "cell_type": "code",
   "execution_count": 10,
   "id": "b62f3573",
   "metadata": {},
   "source": [
    "v.barDF(pr.getLabelSeries(),'index','values')"
   ],
   "outputs": []
  },
  {
   "cell_type": "code",
   "execution_count": 11,
   "id": "9c34d837",
   "metadata": {},
   "source": [
    "pr.corrDF()"
   ],
   "outputs": []
  },
  {
   "cell_type": "code",
   "execution_count": null,
   "id": "94302b9c",
   "metadata": {},
   "source": [],
   "outputs": []
  },
  {
   "cell_type": "code",
   "execution_count": 12,
   "id": "2a878f61",
   "metadata": {},
   "source": [
    "v.scatterDF(pr.df, \"Age\",\"Pregnancies\")"
   ],
   "outputs": []
  },
  {
   "cell_type": "code",
   "execution_count": 13,
   "id": "ab37b8cf",
   "metadata": {},
   "source": [
    "v.visualizeData(d.Pca(n.StandSc(pr.getDataWithoutLabels())))"
   ],
   "outputs": []
  },
  {
   "cell_type": "code",
   "execution_count": 14,
   "id": "df73c62b",
   "metadata": {},
   "source": [
    "X_train = n.StandSc(X_train)\n",
    "X_test = n.StandSc(X_test)"
   ],
   "outputs": []
  },
  {
   "cell_type": "code",
   "execution_count": 15,
   "id": "20a0d559",
   "metadata": {},
   "source": [
    "type(X_train)"
   ],
   "outputs": []
  },
  {
   "cell_type": "code",
   "execution_count": 16,
   "id": "884a7080",
   "metadata": {},
   "source": [
    "cvalid = crossValid(X_train,y_train)"
   ],
   "outputs": []
  },
  {
   "cell_type": "code",
   "execution_count": 17,
   "id": "63e76670",
   "metadata": {},
   "source": [
    "M = Models()"
   ],
   "outputs": []
  },
  {
   "cell_type": "code",
   "execution_count": 18,
   "id": "08c34dc6",
   "metadata": {},
   "source": [
    "cvalid.validModel(M.getModels())"
   ],
   "outputs": []
  },
  {
   "cell_type": "code",
   "execution_count": 19,
   "id": "b236b06a",
   "metadata": {},
   "source": [
    "cvalid.resultValidModel()"
   ],
   "outputs": []
  },
  {
   "cell_type": "code",
   "execution_count": 20,
   "id": "94fdd009",
   "metadata": {},
   "source": [
    "cvalid.data_rr"
   ],
   "outputs": []
  },
  {
   "cell_type": "code",
   "execution_count": 21,
   "id": "57179041",
   "metadata": {},
   "source": [
    "gr = grichSearch()"
   ],
   "outputs": []
  },
  {
   "cell_type": "code",
   "execution_count": 22,
   "id": "268964f4",
   "metadata": {},
   "source": [
    "gr.gridsearch(cvalid.data_rr,X_train,y_train.values, M.getModels())"
   ],
   "outputs": []
  },
  {
   "cell_type": "code",
   "execution_count": 23,
   "id": "1c834283",
   "metadata": {},
   "source": [
    "gr.accuracyScoreModel(X_test,y_test.values)"
   ],
   "outputs": []
  },
  {
   "cell_type": "code",
   "execution_count": 24,
   "id": "f268778e",
   "metadata": {},
   "source": [
    "gr.model_final."
   ],
   "outputs": []
  },
  {
   "cell_type": "code",
   "execution_count": null,
   "id": "0c4e057a",
   "metadata": {},
   "source": [
    "roc_auc = 0.80"
   ],
   "outputs": []
  }
 ],
 "metadata": {
  "kernelspec": {
   "display_name": "Python 3 (ipykernel)",
   "language": "python",
   "name": "python3"
  },
  "language_info": {
   "codemirror_mode": {
    "name": "ipython",
    "version": 3
   },
   "file_extension": ".py",
   "mimetype": "text/x-python",
   "name": "python",
   "nbconvert_exporter": "python",
   "pygments_lexer": "ipython3",
   "version": "3.9.13"
  }
 },
 "nbformat": 4,
 "nbformat_minor": 5
}
